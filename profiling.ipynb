{
 "cells": [
  {
   "cell_type": "code",
   "execution_count": 1,
   "id": "ad1fe217",
   "metadata": {},
   "outputs": [
    {
     "data": {
      "text/plain": [
       "[10, 20, 30, 40, 50, 60, 70, 80, 90, 100, 110, 120]"
      ]
     },
     "execution_count": 1,
     "metadata": {},
     "output_type": "execute_result"
    }
   ],
   "source": [
    "rates = list(range(10, 121, 10))\n",
    "rates"
   ]
  },
  {
   "cell_type": "code",
   "execution_count": 4,
   "id": "d5d9aba7",
   "metadata": {},
   "outputs": [],
   "source": [
    "import pandas as pd\n",
    "import matplotlib.pyplot as plt\n",
    "def read_data(rate) -> pd.DataFrame:\n",
    "    # print(rate)\n",
    "    df = pd.read_csv(f\"../continuous{rate}.csv\")\n",
    "    df[\"full_duration\"] = df[\"draw_end_time\"] - df[\"start_time\"]\n",
    "    df[\"sleep_duration\"] = df[\"tick_time\"] - df[\"start_time\"]\n",
    "    df[\"logic_duration\"] = df[\"before_draw_time\"] - df[\"tick_time\"]\n",
    "    df[\"draw_duration\"] = df[\"draw_end_time\"] - df[\"before_draw_time\"]\n",
    "    df[\"start_cycle\"] = df[\"start_time\"].diff()\n",
    "    df = df.iloc[50:-50] # clean up a bit\n",
    "    return df"
   ]
  },
  {
   "cell_type": "code",
   "execution_count": 5,
   "id": "1e51b26b",
   "metadata": {},
   "outputs": [
    {
     "data": {
      "text/html": [
       "<div>\n",
       "<style scoped>\n",
       "    .dataframe tbody tr th:only-of-type {\n",
       "        vertical-align: middle;\n",
       "    }\n",
       "\n",
       "    .dataframe tbody tr th {\n",
       "        vertical-align: top;\n",
       "    }\n",
       "\n",
       "    .dataframe thead th {\n",
       "        text-align: right;\n",
       "    }\n",
       "</style>\n",
       "<table border=\"1\" class=\"dataframe\">\n",
       "  <thead>\n",
       "    <tr style=\"text-align: right;\">\n",
       "      <th></th>\n",
       "      <th>start_cycle</th>\n",
       "      <th>full_duration</th>\n",
       "      <th>delay</th>\n",
       "      <th>sleep_duration</th>\n",
       "      <th>logic_duration</th>\n",
       "      <th>draw_duration</th>\n",
       "      <th>target_time</th>\n",
       "      <th>overslept</th>\n",
       "      <th>unaccounted</th>\n",
       "    </tr>\n",
       "  </thead>\n",
       "  <tbody>\n",
       "    <tr>\n",
       "      <th>10</th>\n",
       "      <td>0.100642</td>\n",
       "      <td>0.100633</td>\n",
       "      <td>0.099115</td>\n",
       "      <td>0.099758</td>\n",
       "      <td>0.000112</td>\n",
       "      <td>0.000763</td>\n",
       "      <td>0.100000</td>\n",
       "      <td>0.000642</td>\n",
       "      <td>0.00001</td>\n",
       "    </tr>\n",
       "    <tr>\n",
       "      <th>20</th>\n",
       "      <td>0.051522</td>\n",
       "      <td>0.051514</td>\n",
       "      <td>0.049172</td>\n",
       "      <td>0.050694</td>\n",
       "      <td>0.000109</td>\n",
       "      <td>0.00071</td>\n",
       "      <td>0.050000</td>\n",
       "      <td>0.001523</td>\n",
       "      <td>0.000009</td>\n",
       "    </tr>\n",
       "    <tr>\n",
       "      <th>30</th>\n",
       "      <td>0.03454</td>\n",
       "      <td>0.034531</td>\n",
       "      <td>0.03252</td>\n",
       "      <td>0.033726</td>\n",
       "      <td>0.000107</td>\n",
       "      <td>0.000698</td>\n",
       "      <td>0.033333</td>\n",
       "      <td>0.001206</td>\n",
       "      <td>0.000009</td>\n",
       "    </tr>\n",
       "    <tr>\n",
       "      <th>40</th>\n",
       "      <td>0.028676</td>\n",
       "      <td>0.028672</td>\n",
       "      <td>0.024201</td>\n",
       "      <td>0.027883</td>\n",
       "      <td>0.000101</td>\n",
       "      <td>0.000688</td>\n",
       "      <td>0.025000</td>\n",
       "      <td>0.003682</td>\n",
       "      <td>0.000004</td>\n",
       "    </tr>\n",
       "    <tr>\n",
       "      <th>50</th>\n",
       "      <td>0.020991</td>\n",
       "      <td>0.020983</td>\n",
       "      <td>0.019205</td>\n",
       "      <td>0.020196</td>\n",
       "      <td>0.000106</td>\n",
       "      <td>0.00068</td>\n",
       "      <td>0.020000</td>\n",
       "      <td>0.000991</td>\n",
       "      <td>0.000009</td>\n",
       "    </tr>\n",
       "    <tr>\n",
       "      <th>60</th>\n",
       "      <td>0.016999</td>\n",
       "      <td>0.01699</td>\n",
       "      <td>0.015884</td>\n",
       "      <td>0.016216</td>\n",
       "      <td>0.000105</td>\n",
       "      <td>0.000669</td>\n",
       "      <td>0.016667</td>\n",
       "      <td>0.000332</td>\n",
       "      <td>0.000008</td>\n",
       "    </tr>\n",
       "    <tr>\n",
       "      <th>70</th>\n",
       "      <td>0.015032</td>\n",
       "      <td>0.015023</td>\n",
       "      <td>0.013507</td>\n",
       "      <td>0.014253</td>\n",
       "      <td>0.000104</td>\n",
       "      <td>0.000666</td>\n",
       "      <td>0.014286</td>\n",
       "      <td>0.000746</td>\n",
       "      <td>0.000008</td>\n",
       "    </tr>\n",
       "    <tr>\n",
       "      <th>80</th>\n",
       "      <td>0.013051</td>\n",
       "      <td>0.013042</td>\n",
       "      <td>0.011713</td>\n",
       "      <td>0.012264</td>\n",
       "      <td>0.000106</td>\n",
       "      <td>0.000672</td>\n",
       "      <td>0.012500</td>\n",
       "      <td>0.000551</td>\n",
       "      <td>0.000009</td>\n",
       "    </tr>\n",
       "    <tr>\n",
       "      <th>90</th>\n",
       "      <td>0.012021</td>\n",
       "      <td>0.012012</td>\n",
       "      <td>0.010322</td>\n",
       "      <td>0.011232</td>\n",
       "      <td>0.000107</td>\n",
       "      <td>0.000674</td>\n",
       "      <td>0.011111</td>\n",
       "      <td>0.00091</td>\n",
       "      <td>0.000009</td>\n",
       "    </tr>\n",
       "    <tr>\n",
       "      <th>100</th>\n",
       "      <td>0.011005</td>\n",
       "      <td>0.010996</td>\n",
       "      <td>0.009221</td>\n",
       "      <td>0.010225</td>\n",
       "      <td>0.000103</td>\n",
       "      <td>0.000668</td>\n",
       "      <td>0.010000</td>\n",
       "      <td>0.001005</td>\n",
       "      <td>0.000008</td>\n",
       "    </tr>\n",
       "    <tr>\n",
       "      <th>110</th>\n",
       "      <td>0.010019</td>\n",
       "      <td>0.010011</td>\n",
       "      <td>0.008329</td>\n",
       "      <td>0.009258</td>\n",
       "      <td>0.000103</td>\n",
       "      <td>0.000651</td>\n",
       "      <td>0.009091</td>\n",
       "      <td>0.000928</td>\n",
       "      <td>0.000008</td>\n",
       "    </tr>\n",
       "    <tr>\n",
       "      <th>120</th>\n",
       "      <td>0.009021</td>\n",
       "      <td>0.009014</td>\n",
       "      <td>0.007587</td>\n",
       "      <td>0.008275</td>\n",
       "      <td>0.000101</td>\n",
       "      <td>0.000637</td>\n",
       "      <td>0.008333</td>\n",
       "      <td>0.000688</td>\n",
       "      <td>0.000008</td>\n",
       "    </tr>\n",
       "  </tbody>\n",
       "</table>\n",
       "</div>"
      ],
      "text/plain": [
       "    start_cycle full_duration     delay sleep_duration logic_duration  \\\n",
       "10     0.100642      0.100633  0.099115       0.099758       0.000112   \n",
       "20     0.051522      0.051514  0.049172       0.050694       0.000109   \n",
       "30      0.03454      0.034531   0.03252       0.033726       0.000107   \n",
       "40     0.028676      0.028672  0.024201       0.027883       0.000101   \n",
       "50     0.020991      0.020983  0.019205       0.020196       0.000106   \n",
       "60     0.016999       0.01699  0.015884       0.016216       0.000105   \n",
       "70     0.015032      0.015023  0.013507       0.014253       0.000104   \n",
       "80     0.013051      0.013042  0.011713       0.012264       0.000106   \n",
       "90     0.012021      0.012012  0.010322       0.011232       0.000107   \n",
       "100    0.011005      0.010996  0.009221       0.010225       0.000103   \n",
       "110    0.010019      0.010011  0.008329       0.009258       0.000103   \n",
       "120    0.009021      0.009014  0.007587       0.008275       0.000101   \n",
       "\n",
       "    draw_duration  target_time overslept unaccounted  \n",
       "10       0.000763     0.100000  0.000642     0.00001  \n",
       "20        0.00071     0.050000  0.001523    0.000009  \n",
       "30       0.000698     0.033333  0.001206    0.000009  \n",
       "40       0.000688     0.025000  0.003682    0.000004  \n",
       "50        0.00068     0.020000  0.000991    0.000009  \n",
       "60       0.000669     0.016667  0.000332    0.000008  \n",
       "70       0.000666     0.014286  0.000746    0.000008  \n",
       "80       0.000672     0.012500  0.000551    0.000009  \n",
       "90       0.000674     0.011111   0.00091    0.000009  \n",
       "100      0.000668     0.010000  0.001005    0.000008  \n",
       "110      0.000651     0.009091  0.000928    0.000008  \n",
       "120      0.000637     0.008333  0.000688    0.000008  "
      ]
     },
     "execution_count": 5,
     "metadata": {},
     "output_type": "execute_result"
    }
   ],
   "source": [
    "mean_df = pd.DataFrame(index=rates, columns=[\"start_cycle\", \"full_duration\", \"delay\", \"sleep_duration\", \"logic_duration\", \"draw_duration\"])\n",
    "for rate in rates:\n",
    "    rate_df = read_data(rate)\n",
    "    mean_df.loc[rate] = rate_df[mean_df.columns].mean()\n",
    "\n",
    "mean_df[\"target_time\"] = 1.0 / mean_df.index\n",
    "mean_df[\"overslept\"] = mean_df[\"sleep_duration\"] - mean_df[\"delay\"]\n",
    "mean_df[\"unaccounted\"] = mean_df[\"start_cycle\"] - mean_df[\"full_duration\"] # time outside the draw loop\n",
    "mean_df\n",
    "# mean_df.mul(-1)"
   ]
  },
  {
   "cell_type": "code",
   "execution_count": 6,
   "id": "ad74b820",
   "metadata": {},
   "outputs": [
    {
     "data": {
      "text/plain": [
       "<Axes: >"
      ]
     },
     "execution_count": 6,
     "metadata": {},
     "output_type": "execute_result"
    },
    {
     "data": {
      "image/png": "[encoded data removed]",
      "text/plain": [
       "<Figure size 640x480 with 1 Axes>"
      ]
     },
     "metadata": {},
     "output_type": "display_data"
    }
   ],
   "source": [
    "# start -> sleep -> logic -> draw\n",
    "# start_time, tick_time, before_draw_time, draw_end_time\n",
    "# start_cycle, (delay), sleep_duration, draw_ready (sleep_duration + logic_duration), full_duration\n",
    "mean_df[\"draw_ready\"] = mean_df[\"sleep_duration\"] + mean_df[\"logic_duration\"]\n",
    "mean_df[[\"sleep_duration\", \"draw_ready\", \"full_duration\"]].plot.bar(stacked=False)"
   ]
  },
  {
   "cell_type": "code",
   "execution_count": 7,
   "id": "6be59d8a",
   "metadata": {},
   "outputs": [],
   "source": [
    "# bad normalization :/\n",
    "# mean_df = mean_df.div(mean_df[\"target_time\"], axis=0)\n",
    "# mean_df = mean_df.subtract(mean_df[\"target_time\"], axis=0)\n",
    "# mean_df"
   ]
  },
  {
   "cell_type": "code",
   "execution_count": 8,
   "id": "559e6bd3",
   "metadata": {},
   "outputs": [
    {
     "data": {
      "text/plain": [
       "<Axes: >"
      ]
     },
     "execution_count": 8,
     "metadata": {},
     "output_type": "execute_result"
    },
    {
     "data": {
      "image/png": "[encoded data removed]",
      "text/plain": [
       "<Figure size 640x480 with 1 Axes>"
      ]
     },
     "metadata": {},
     "output_type": "display_data"
    }
   ],
   "source": [
    "# so the target is about at 0, want to see how much time the sleep left us for \"logic\"+ draw\n",
    "# vs how much it actually slept and then the draw took\n",
    "# TODO: get the relative values so this can become a stacked plot again.\n",
    "# likely need to measure the cycles from the top.\n",
    "mean_df[[\"delay\", \"sleep_duration\", \"draw_ready\", \"full_duration\"]].subtract(mean_df[\"target_time\"], axis=0).plot.bar(stacked=False)"
   ]
  },
  {
   "cell_type": "code",
   "execution_count": 9,
   "id": "e4d4581b",
   "metadata": {},
   "outputs": [],
   "source": [
    "# relative? # TODO: needs subtract again -.- seems likea circular math at one point.\n",
    "mean_df[\"oversleep\"] = mean_df[\"sleep_duration\"] - mean_df[\"delay\"]"
   ]
  },
  {
   "cell_type": "code",
   "execution_count": 10,
   "id": "fae08df8",
   "metadata": {},
   "outputs": [
    {
     "data": {
      "text/plain": [
       "<matplotlib.legend.Legend at 0x178d23d9610>"
      ]
     },
     "execution_count": 10,
     "metadata": {},
     "output_type": "execute_result"
    },
    {
     "data": {
      "image/png": "[encoded data removed]",
      "text/plain": [
       "<Figure size 1000x600 with 1 Axes>"
      ]
     },
     "metadata": {},
     "output_type": "display_data"
    }
   ],
   "source": [
    "# this Y scale is awful as you can't really tell or compare. Maybe I can get the sleep/delay into the negative direction\n",
    "# since you might want to compare the overslept and draw durations, so they should be nearly lined up.\n",
    "\n",
    "fig = plt.figure(figsize=(10, 6))\n",
    "ax = plt.gca()\n",
    "plt.bar(x=range(len(mean_df.index)), height=mean_df[\"target_time\"], label=\"target_time\", color=\"k\", alpha=0.2)\n",
    "plt.bar(x=range(len(mean_df.index)), height=mean_df[\"start_cycle\"], label=\"measure_frametime\", color=\"b\", alpha=0.2)\n",
    "mean_df[[\"delay\", \"overslept\", \"draw_duration\"]].plot.bar(stacked=True, ax=ax, alpha=1.0,)\n",
    "# mean_df[\"expected_rate\"].plot.bar(label=\"expected_rate\", ax=plt.gca(), color=\"k\", linestyle=\"--\", alpha=0.2)\n",
    "# ax.yaxis.set_inverted(True)\n",
    "plt.title(\"continuous durations per framerate\")\n",
    "plt.legend()\n",
    "\n",
    "# mean_df[\"draw_duration\"].div(mean_df[\"expected_rate\"]).plot(label=\"sleep_duration\")"
   ]
  },
  {
   "cell_type": "code",
   "execution_count": null,
   "id": "3aa2c451",
   "metadata": {},
   "outputs": [
    {
     "ename": "NameError",
     "evalue": "name 'expected_frame_time' is not defined",
     "output_type": "error",
     "traceback": [
      "\u001b[31m---------------------------------------------------------------------------\u001b[39m",
      "\u001b[31mNameError\u001b[39m                                 Traceback (most recent call last)",
      "\u001b[36mCell\u001b[39m\u001b[36m \u001b[39m\u001b[32mIn[11]\u001b[39m\u001b[32m, line 2\u001b[39m\n\u001b[32m      1\u001b[39m fig = plt.figure(figsize=(\u001b[32m20\u001b[39m, \u001b[32m5\u001b[39m))\n\u001b[32m----> \u001b[39m\u001b[32m2\u001b[39m plt.axhline(\u001b[43mexpected_frame_time\u001b[49m, color=\u001b[33m\"\u001b[39m\u001b[33mred\u001b[39m\u001b[33m\"\u001b[39m, label=\u001b[33m\"\u001b[39m\u001b[33mexpected frame time\u001b[39m\u001b[33m\"\u001b[39m)\n\u001b[32m      3\u001b[39m \u001b[38;5;66;03m# plt.bar(df.index, df[\"full_duration\"], label=\"full duration\", width=1.0, alpha=0.5)\u001b[39;00m\n\u001b[32m      4\u001b[39m df[\u001b[33m\"\u001b[39m\u001b[33mfull_duration\u001b[39m\u001b[33m\"\u001b[39m].plot(kind=\u001b[33m\"\u001b[39m\u001b[33mbar\u001b[39m\u001b[33m\"\u001b[39m, width=\u001b[32m1.0\u001b[39m, alpha=\u001b[32m0.9\u001b[39m, label=\u001b[33m\"\u001b[39m\u001b[33mfull duration\u001b[39m\u001b[33m\"\u001b[39m)\n",
      "\u001b[31mNameError\u001b[39m: name 'expected_frame_time' is not defined"
     ]
    },
    {
     "data": {
      "text/plain": [
       "<Figure size 2000x500 with 0 Axes>"
      ]
     },
     "metadata": {},
     "output_type": "display_data"
    }
   ],
   "source": [
    "# earlier plotting code, not working anymore\n",
    "fig = plt.figure(figsize=(20, 5))\n",
    "plt.axhline(expected_frame_time, color=\"red\", label=\"expected frame time\")\n",
    "# plt.bar(df.index, df[\"full_duration\"], label=\"full duration\", width=1.0, alpha=0.5)\n",
    "df[\"full_duration\"].plot(kind=\"bar\", width=1.0, alpha=0.9, label=\"full duration\")\n",
    "df[[\"sleep_duration\", \"draw_duration\"]].plot(kind=\"bar\", stacked=True, ax=plt.gca(), width=1.0, alpha=0.5)\n",
    "df[\"delay\"].plot(kind=\"bar\", width=1.0, alpha=0.7, color=\"green\", legend=False)\n",
    "plt.xticks([])\n",
    "# plt.plot(df[\"full_duration\"], label=\"full duration\")\n",
    "# plt.plot(df[\"draw_duration\"], label=\"draw duration\")\n",
    "# plt.plot(df[\"delay\"])\n",
    "# plt.plot(df[\"sleep_duration\"])\n",
    "plt.show()"
   ]
  }
 ],
 "metadata": {
  "kernelspec": {
   "display_name": "Python 3",
   "language": "python",
   "name": "python3"
  },
  "language_info": {
   "codemirror_mode": {
    "name": "ipython",
    "version": 3
   },
   "file_extension": ".py",
   "mimetype": "text/x-python",
   "name": "python",
   "nbconvert_exporter": "python",
   "pygments_lexer": "ipython3",
   "version": "3.12.9"
  }
 },
 "nbformat": 4,
 "nbformat_minor": 5
}
